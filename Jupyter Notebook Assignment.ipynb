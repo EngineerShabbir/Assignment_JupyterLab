{
 "cells": [
  {
   "cell_type": "markdown",
   "id": "65cdfabb-5298-4c89-b5ba-21e698e41e41",
   "metadata": {},
   "source": [
    "# My Jupyter Notebook on IBM Data Science Experience"
   ]
  },
  {
   "cell_type": "markdown",
   "id": "43031bda-61c9-4c95-932d-84436e54ca05",
   "metadata": {},
   "source": [
    "**Muhammad Shabbir Iqbal**\n",
    "<br>Future Data Scientist</br>"
   ]
  },
  {
   "cell_type": "markdown",
   "id": "6e30bffb-2dbf-4a9d-b5d1-091f1f6df35a",
   "metadata": {},
   "source": [
    "*I am interested in Data Science because I feel that it is need of an hour and coming times. The future and many of its aspects rely heavily on how available data can be converted to useful information. Hopefully, with stepping stone on this course by IBM will help me persure Data Science and Analytics*"
   ]
  },
  {
   "cell_type": "markdown",
   "id": "68d1c4e2-60e4-4be6-adfb-c8131640ffae",
   "metadata": {},
   "source": [
    "### The basic level code that i have input in below cell. First I imported the Random Module, then entered the code to generate Random Integers from 1 to 10. Then gave Print Code to display the Output."
   ]
  },
  {
   "cell_type": "code",
   "execution_count": 9,
   "id": "a521ee11-5c2a-4b35-bd5f-c7c8d0fcdaed",
   "metadata": {},
   "outputs": [
    {
     "name": "stdout",
     "output_type": "stream",
     "text": [
      "1\n"
     ]
    }
   ],
   "source": [
    "import random\n",
    "Random_int = random.randint(1,10)\n",
    "print(Random_int)"
   ]
  },
  {
   "cell_type": "markdown",
   "id": "d114ea66-6982-4502-a22e-fdee1dcc1757",
   "metadata": {},
   "source": [
    "---"
   ]
  },
  {
   "cell_type": "markdown",
   "id": "9c4363cf-a0e1-4b7f-8374-62f207da48f6",
   "metadata": {},
   "source": [
    "As per Assignment, This cell can exhibit atleast three features among horizontal rule, bulleted list, numbered list, tables, hyperlinks, images, code/syntax highlighting, blocked quotes, strikethrough. I have chosen first three <br>\n",
    "### Horizontal Rule or Line can be seen below;<br>\n",
    "---\n",
    "### Bullet List can be seen below, <br>\n",
    ">Bullet list 1\n",
    ">>Bullet List 1.1\n",
    ">>> Bullet List 1.1.1\n",
    "---\n",
    "### Number List can be seen below<br>\n",
    "1. Number List 1\n",
    "2. Number List 2\n",
    "3. Number List 3\n",
    "---"
   ]
  },
  {
   "cell_type": "code",
   "execution_count": null,
   "id": "67b174f9-64f0-4275-b1d4-5499464bd3da",
   "metadata": {},
   "outputs": [],
   "source": []
  }
 ],
 "metadata": {
  "kernelspec": {
   "display_name": "Python",
   "language": "python",
   "name": "conda-env-python-py"
  },
  "language_info": {
   "codemirror_mode": {
    "name": "ipython",
    "version": 3
   },
   "file_extension": ".py",
   "mimetype": "text/x-python",
   "name": "python",
   "nbconvert_exporter": "python",
   "pygments_lexer": "ipython3",
   "version": "3.7.12"
  }
 },
 "nbformat": 4,
 "nbformat_minor": 5
}
